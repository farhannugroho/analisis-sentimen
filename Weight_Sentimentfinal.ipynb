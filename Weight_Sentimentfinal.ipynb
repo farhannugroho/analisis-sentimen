{
 "cells": [
  {
   "cell_type": "code",
   "execution_count": 1,
   "metadata": {
    "id": "c1ASrTWddBFp"
   },
   "outputs": [],
   "source": [
    "import pandas as pd \n",
    "import numpy as np\n",
    "from nltk.tokenize.treebank import TreebankWordDetokenizer"
   ]
  },
  {
   "cell_type": "code",
   "execution_count": 2,
   "metadata": {
    "id": "MclyJIFMdOA1"
   },
   "outputs": [],
   "source": [
    "df = pd.read_csv('komentar_bersih_instagram.csv', usecols=['clean_comment']).astype('str')"
   ]
  },
  {
   "cell_type": "code",
   "execution_count": 3,
   "metadata": {
    "colab": {
     "base_uri": "https://localhost:8080/",
     "height": 363
    },
    "id": "Q6L4DJf_dmtt",
    "outputId": "b9f4c105-2d56-4846-e6e4-7c9b39127361"
   },
   "outputs": [
    {
     "data": {
      "text/html": [
       "<div>\n",
       "<style scoped>\n",
       "    .dataframe tbody tr th:only-of-type {\n",
       "        vertical-align: middle;\n",
       "    }\n",
       "\n",
       "    .dataframe tbody tr th {\n",
       "        vertical-align: top;\n",
       "    }\n",
       "\n",
       "    .dataframe thead th {\n",
       "        text-align: right;\n",
       "    }\n",
       "</style>\n",
       "<table border=\"1\" class=\"dataframe\">\n",
       "  <thead>\n",
       "    <tr style=\"text-align: right;\">\n",
       "      <th></th>\n",
       "      <th>clean_comment</th>\n",
       "    </tr>\n",
       "  </thead>\n",
       "  <tbody>\n",
       "    <tr>\n",
       "      <th>0</th>\n",
       "      <td>aneh aneh aje</td>\n",
       "    </tr>\n",
       "    <tr>\n",
       "      <th>1</th>\n",
       "      <td>nambah beban rakyat aja dih</td>\n",
       "    </tr>\n",
       "    <tr>\n",
       "      <th>2</th>\n",
       "      <td>nan</td>\n",
       "    </tr>\n",
       "    <tr>\n",
       "      <th>3</th>\n",
       "      <td>banget bangettt bangettt jalan aja bayar skrg ...</td>\n",
       "    </tr>\n",
       "    <tr>\n",
       "      <th>4</th>\n",
       "      <td>ngga paham pikir jaman now ketindesss aje moga...</td>\n",
       "    </tr>\n",
       "    <tr>\n",
       "      <th>5</th>\n",
       "      <td>gagal perintah kota selesai ujung rakyat sengs...</td>\n",
       "    </tr>\n",
       "    <tr>\n",
       "      <th>6</th>\n",
       "      <td>bener din gitu bayar pajak teh taun naha kitu ...</td>\n",
       "    </tr>\n",
       "    <tr>\n",
       "      <th>7</th>\n",
       "      <td>bebas pajak</td>\n",
       "    </tr>\n",
       "    <tr>\n",
       "      <th>8</th>\n",
       "      <td>rakyat ud susah bikin susah allahhh</td>\n",
       "    </tr>\n",
       "    <tr>\n",
       "      <th>9</th>\n",
       "      <td>blok</td>\n",
       "    </tr>\n",
       "  </tbody>\n",
       "</table>\n",
       "</div>"
      ],
      "text/plain": [
       "                                       clean_comment\n",
       "0                                      aneh aneh aje\n",
       "1                        nambah beban rakyat aja dih\n",
       "2                                                nan\n",
       "3  banget bangettt bangettt jalan aja bayar skrg ...\n",
       "4  ngga paham pikir jaman now ketindesss aje moga...\n",
       "5  gagal perintah kota selesai ujung rakyat sengs...\n",
       "6  bener din gitu bayar pajak teh taun naha kitu ...\n",
       "7                                        bebas pajak\n",
       "8                rakyat ud susah bikin susah allahhh\n",
       "9                                               blok"
      ]
     },
     "execution_count": 3,
     "metadata": {},
     "output_type": "execute_result"
    }
   ],
   "source": [
    "df.head(10)"
   ]
  },
  {
   "cell_type": "code",
   "execution_count": 4,
   "metadata": {
    "id": "9dN9hPrwdp81"
   },
   "outputs": [],
   "source": [
    "# LEXICON\n",
    "lexicon = pd.read_csv('lexicon.csv')\n",
    "lexicon['weight'] = lexicon['sentiment'].map({'positive':1, 'negative':-1}) \n",
    "lexicon = dict(zip(lexicon['word'], lexicon['weight']))"
   ]
  },
  {
   "cell_type": "code",
   "execution_count": 5,
   "metadata": {
    "colab": {
     "base_uri": "https://localhost:8080/"
    },
    "id": "mXADuF5MlO0y",
    "outputId": "54c0f4fa-27f9-40f9-cf4f-c5b5643752bb"
   },
   "outputs": [
    {
     "name": "stdout",
     "output_type": "stream",
     "text": [
      "{'absah': 1, 'absolut': 1, 'acuan': 1, 'afdol': 1, 'ahli': 1, 'akademisi': 1, 'akan bayar': 1, 'akbar': 1, 'akrab': 1, 'aktif': 1, 'aktualisasi': 1, 'akur': 1, 'akurat': 1, 'alami': 1, 'alamiah': 1, 'alhamdulillah': 1, 'alim': 1, 'alim ulama': 1, 'amal': 1, 'amal jariah': 1, 'aman': 1, 'aman-aman': 1, 'amboi': 1, 'ampuh': 1, 'anak emas': 1, 'andal': 1, 'andalan': 1, 'anggukan': 1, 'anggun': 1, 'animo': 1, 'anjuran': 1, 'anteng': 1, 'antusias': 1, 'antusiasme': 1, 'anugrah': 1, 'apresiasi': 1, 'arahan': 1, 'atensi': 1, 'ayo': 1, 'bagus': 1, 'bahagia': 1, 'bahagiakan': 1, 'bahagian': 1, 'bahu-membahu': 1, 'baik': 1, 'baik-baik': 1, 'bajik': 1, 'bakat': 1, 'bakti': 1, 'bala bantuan': 1, 'balas budi': 1, 'balas jasa': 1, 'bangga': 1, 'bangkit': 1, 'bantu': 1, 'bantuan': 1, 'banyak': 1, 'banyak-banyak': 1, 'beasiswa': 1, 'bebas banjir': 1, 'bebas hambatan': 1, 'bebas murni': 1, 'becus': 1, 'bekal': 1, 'beken': 1, 'bekerja keras': 1, 'bekerja sama': 1, 'belajar': 1, 'belas kasih': 1, 'benah': 1, 'benar': 1, 'bening': 1, 'berakal': 1, 'berakhlak': 1, 'beramal': 1, 'beraneka ragam': 1, 'berangkulan': 1, 'berani': 1, 'berbagi': 1, 'berbahagia': 1, 'berbaikan': 1, 'berbakat': 1, 'berbakti': 1, 'berbangga': 1, 'berbinar-binar': 1, 'berbobot': 1, 'berbudaya': 1, 'berbudi': 1, 'berbunga-bunga': 1, 'bercahaya': 1, 'berdamai': 1, 'berdaulat': 1, 'berdaya': 1, 'berdaya guna': 1, 'berdaya upaya': 1, 'berdecak kagum': 1, 'berdikari': 1, 'berempati': 1, 'beretika': 1, 'beretiket': 1, 'berfaedah': 1, 'berfungsi': 1, 'bergandengan': 1, 'bergizi': 1, 'bergotong-royong': 1, 'berguna': 1, 'berhadiah': 1, 'berharap': 1, 'berharga': 1, 'berhasil': 1, 'berhemat': 1, 'berihtiar': 1, 'berijtihad': 1, 'berikhtiar': 1, 'berikrar': 1, 'beriktikad': 1, 'beriman': 1, 'berimbang': 1, 'berinisiatif': 1, 'berinovasi': 1, 'beritikad': 1, 'berjaya': 1, 'berkembang pesat': 1, 'berkesinambungan': 1, 'berkhasiat': 1, 'berkibar': 1, 'berkontribusi': 1, 'berkoordinasi': 1, 'berkreasi': 1, 'berkualitas': 1, 'berlimpah': 1, 'bermaaf-maafan': 1, 'bermanfaat': 1, 'berminat': 1, 'bermoral': 1, 'bermusyawarah': 1, 'berniat': 1, 'berolah raga': 1, 'berpeluang': 1, 'berpelukan': 1, 'berpengalaman': 1, 'berprestasi': 1, 'bersabar': 1, 'bersahabat': 1, 'bersahaja': 1, 'bersalam-salaman': 1, 'bersalaman': 1, 'bersama': 1, 'bersama-sama': 1, 'bersatu': 1, 'bersatu padu': 1, 'bersedia': 1, 'bersesuaian': 1, 'bersilaturahmi': 1, 'bersimpati': 1, 'bersinergi': 1, 'bersopan santun': 1, 'bersorak': 1, 'bersorak sorai': 1, 'bersosialisasi': 1, 'bersukaria': 1, 'bersyukur': 1, 'bertahan': 1, 'bertahap': 1, 'bertalenta': 1, 'bertasawuf': 1, 'bertasbih': 1, 'bertasyakur': 1, 'bertaubat': 1, 'bertawakal': 1, 'bertekad': 1, 'bertepa salira': 1, 'berterima kasih': 1, 'berterus terang': 1, 'bertobat': 1, 'beruntung': 1, 'berupaya': 1, 'berusaha': 1, 'berwawasan': 1, 'berwibawa': 1, 'berzakat': 1, 'berzikir': 1, 'betul': 1, 'bhinneka': 1, 'bibit unggul': 1, 'bijak': 1, 'bijaksana': 1, 'bintang kelas': 1, 'bintang lapangan': 1, 'bintang panggung': 1, 'bisa': 1, 'bismillah': 1, 'bombastis': 1, 'bonafid': 1, 'bonafide': 1, 'bonafit': 1, 'bonus': 1, 'brilian': 1, 'buah hati': 1, 'buah karya': 1, 'budi pekerti': 1, 'budiman': 1, 'cakap': 1, 'cakep': 1, 'canggih': 1, 'cekatan': 1, 'cemerlang': 1, 'cendekia': 1, 'cendekiawan': 1, 'cepat': 1, 'cerdas': 1, 'cerdik': 1, 'ceria': 1, 'cermat': 1, 'cermati': 1, 'cita': 1, 'cita-cita': 1, 'cocok': 1, 'cukup': 1, 'cuma-cuma': 1, 'damai': 1, 'daur ulang': 1, 'daya guna': 1, 'daya gunakan': 1, 'daya upaya': 1, 'decak kagum': 1, 'demokrasi': 1, 'demokratis': 1, 'devisa': 1, 'dewasa': 1, 'diaktifkan': 1, 'diakui': 1, 'diakurkan': 1, 'diamini': 1, 'diaminkan': 1, 'diandalkan': 1, 'dianjurkan': 1, 'dianugerahi': 1, 'dianugerahkan': 1, 'dianugrahkan': 1, 'diarahkan': 1, 'dibaguskan': 1, 'dibahagiakan': 1, 'dibaikkan': 1, 'dibanggakan': 1, 'dibantu': 1, 'dibekali': 1, 'dibekalkan': 1, 'dibela': 1, 'dibenahi': 1, 'diberdayakan': 1, 'diberitahu': 1, 'dibina': 1, 'dicapai': 1, 'dicerdaskan': 1, 'diceriakan': 1, 'dicermati': 1, 'dicermatkan': 1, 'didamaikan': 1, 'didaur ulang': 1, 'didayagunakan': 1, 'didayaupayakan': 1, 'didik': 1, 'didonasikan': 1, 'didonorkan': 1, 'diedukasi': 1, 'diedukasikan': 1, 'diefektifkan': 1, 'difavoritkan': 1, 'digalakkan': 1, 'digandrungi': 1, 'digapai': 1, 'digratiskan': 1, 'dihadiahi': 1, 'dihadiahkan': 1, 'dihargai': 1, 'diharmoniskan': 1, 'dihemat': 1, 'dihibur': 1, 'dihijaukan': 1, 'dihormati': 1, 'dikaji kembali': 1, 'dikakgumi': 1, 'dikaruniai': 1, 'dikaruniakan': 1, 'dikaryakan': 1, 'dikasihi': 1, 'diketahui': 1, 'diklarifikasi': 1, 'dikokohkan': 1, 'dikukuhkan': 1, 'dilancarkan': 1, 'dilanggengkan': 1, 'dilapangi': 1, 'dilapangkan': 1, 'dilegakan': 1, 'dilerai': 1, 'dilestarikan': 1, 'dilimpahkan': 1, 'dilindungi': 1, 'diluhurkan': 1, 'dilunasi': 1, 'dimaafkan': 1, 'dimerdekakan': 1, 'diminati': 1, 'dimotivasi': 1, 'dimudahkan': 1, 'dimuliakan': 1, 'dioptimalkan': 1, 'dipahami': 1, 'dipathui': 1, 'dipatuhi': 1, 'dipelajari': 1, 'dipenuhi': 1, 'diperbagus': 1, 'diperbaiki': 1, 'diperbantukan': 1, 'diperbarui': 1, 'diperbenar': 1, 'dipercakap': 1, 'dipercakep': 1, 'dipercanggih': 1, 'dipercantik': 1, 'dipercaya': 1, 'dipercepat': 1, 'diperdamai': 1, 'diperelok': 1, 'dipererat': 1, 'diperkenankan': 1, 'diperlancar': 1, 'diperlapang': 1, 'dipermudah': 1, 'dipersatukan': 1, 'dipersolid': 1, 'dipertampan': 1, 'diprioritaskan': 1, 'diproses': 1, 'dipuaskan': 1, 'dipulihkan': 1, 'diraih': 1, 'dirampungkan': 1, 'dirangkul': 1, 'dirapihkan': 1, 'dirapikan': 1, 'dirawat': 1, 'direnungi': 1, 'direnungkan': 1, 'direstui': 1, 'diridai': 1, 'diridhai': 1, 'diridhoi': 1, 'diridoi': 1, 'dirohmati': 1, 'dirukunkan': 1, 'disadarkan': 1, 'disanjung': 1, 'disanjung-sanjung': 1, 'disantuni': 1, 'disapu bersih': 1, 'disatukan': 1, 'disayangi': 1, 'diserahkan': 1, 'disetujui': 1, 'disingsingkan': 1, 'disolidkan': 1, 'distabilkan': 1, 'disterilkan': 1, 'distimulasi': 1, 'disubsidi': 1, 'disucikan': 1, 'disukai': 1, 'disukseskan': 1, 'disyukuri': 1, 'ditaati': 1, 'ditabahkan': 1, 'ditauladani': 1, 'ditekuni': 1, 'diteladani': 1, 'ditenangkan': 1, 'ditenteramkan': 1, 'ditentramkan': 1, 'ditepati': 1, 'diterangi': 1, 'diterima': 1, 'ditertibkan': 1, 'ditindaklanjuti': 1, 'ditolong': 1, 'dituntun': 1, 'diunggulkan': 1, 'diuntungkan': 1, 'diupayakan': 1, 'diusahakan': 1, 'diutamakan': 1, 'doakan': 1, 'donasi': 1, 'donatur': 1, 'donor': 1, 'dorong': 1, 'dukungan': 1, 'dzikir': 1, 'edukasi': 1, 'edukatif': 1, 'efektif': 1, 'efisien': 1, 'ekonomis': 1, 'ekspres': 1, 'elegan': 1, 'elite': 1, 'elok': 1, 'eloknya': 1, 'empati': 1, 'enak': 1, 'enak-enak': 1, 'enteng': 1, 'esensial': 1, 'estetik': 1, 'estetis': 1, 'etis': 1, 'evaluasi': 1, 'faedah': 1, 'fakta': 1, 'faktual': 1, 'fantastis': 1, 'fasih': 1, 'favorit': 1, 'fenomenal': 1, 'final': 1, 'fitrah': 1, 'gagah': 1, 'gampang': 1, 'ganteng': 1, 'gapai': 1, 'gegap gempita': 1, 'gemilang': 1, 'genius': 1, 'genjot': 1, 'giat': 1, 'gigih': 1, 'gilang-gemilang': 1, 'gotong-royong': 1, 'gratis': 1, 'gunanya': 1, 'hadiah': 1, 'hak mutlak': 1, 'hakikat': 1, 'hakiki': 1, 'halal': 1, 'halal bihalal': 1, 'halalbihalal': 1, 'handal': 1, 'happy': 1, 'harapan': 1, 'harapkan': 1, 'harmoni': 1, 'harmonis': 1, 'harmonisasi': 1, 'hebat': 1, 'heroik': 1, 'hibah': 1, 'hibur': 1, 'hidayah': 1, 'hidmat': 1, 'hidup': 1, 'higienis': 1, 'hikmah': 1, 'hits': 1, 'hoki': 1, 'hore': 1, 'hormat': 1, 'hormat-menghormati': 1, 'hormati': 1, 'humoris': 1, 'husnul khatimah': 1, 'ibadah': 1, 'ideal': 1, 'ihsan': 1, 'ihtiar': 1, 'ijtihad': 1, 'ikhlas': 1, 'ikhtiar': 1, 'iktikad': 1, 'ilmiah': 1, 'iman': 1, 'impresif': 1, 'imut-imut': 1, 'indah': 1, 'informatif': 1, 'inisiatif': 1, 'inovasi': 1, 'inovatif': 1, 'inovator': 1, 'insaf': 1, 'insan': 1, 'insan kamil': 1, 'insentif': 1, 'inspirasi': 1, 'insya allah': 1, 'integritas': 1, 'intelek': 1, 'intelektual': 1, 'inteligensi': 1, 'inteligensia': 1, 'intensif': 1, 'irit': 1, 'islami': 1, 'istikharah': 1, 'istimewa': 1, 'istiqamah': 1, 'itikad': 1, 'itikaf': 1, 'izin': 1, 'jago': 1, 'jagoan': 1, 'jangan dulu': 1, 'jawaban': 1, 'jelas': 1, 'jelaskan': 1, 'jempolan': 1, 'jenius': 1, 'juara': 1, 'jujur': 1, 'kagum': 1, 'kaji': 1, 'kamil': 1, 'kampiun': 1, 'kapabel': 1, 'karib': 1, 'karisma': 1, 'karismatik': 1, 'karunia': 1, 'kasih': 1, 'keakraban': 1, 'keanggunan': 1, 'kebaikan': 1, 'kebajikan': 1, 'kebanggaan': 1, 'kebenaran': 1, 'keberhasilan': 1, 'kebersamaan': 1, 'keberuntungan': 1, 'kebulatan suara': 1, 'kebulatan tekad': 1, 'kecakapan': 1, 'kecekatan': 1, 'kecemerlangan': 1, 'keelokan': 1, 'kegemilangan': 1, 'kegeniusan': 1, 'kegigihan': 1, 'kehebatan': 1, 'kehormatan': 1, 'keikhlasan': 1, 'keindahan': 1, 'keistimewaan': 1, 'kejayaan': 1, 'kejelasan': 1, 'kejeniusan': 1, 'kejujuran': 1, 'kekaguman': 1, 'kekeluargaan': 1, 'kekhidmatan': 1, 'kekhusukan': 1, 'kekhusyukan': 1, 'kelancaran': 1, 'kelapangan': 1, 'kelebihan': 1, 'kelembutan': 1, 'kelezatan': 1, 'kemajuan': 1, 'kemakmuran': 1, 'kemampuan': 1, 'kemandirian': 1, 'kemantapan': 1, 'kemenangan': 1, 'kemeriahan': 1, 'kemudahan': 1, 'kemuliaan': 1, 'kenikmatan': 1, 'kenyamanan': 1, 'kepedulian': 1, 'kepercayaan': 1, 'keramahan': 1, 'keren': 1, 'keridaan': 1, 'keridhaan': 1, 'keridhoan': 1, 'keridoan': 1, 'kerja': 1, 'kerukunan': 1, 'kesabaran': 1, 'kesanggupan': 1, 'keselarasan': 1, 'kesepakatan': 1, 'kesesuaian': 1, 'keshalehan': 1, 'kesinambungan': 1, 'kesopanan': 1, 'kesuksesan': 1, 'ketaatan': 1, 'ketabahan': 1, 'ketawakalan': 1, 'ketegarab': 1, 'ketekunan': 1, 'keteladanan': 1, 'ketenangan': 1, 'ketentraman': 1, 'keterbukaan': 1, 'ketertiban': 1, 'keunggulan': 1, 'keuntungan': 1, 'kewajiban': 1, 'kewenangan': 1, 'keyakinan': 1, 'kharisma': 1, 'kharismatik': 1, 'khidmat': 1, 'khusyuk': 1, 'klarifikasi': 1, 'kokoh': 1, 'kolaborasi': 1, 'komersial': 1, 'komfortabel': 1, 'komitmen': 1, 'kompak': 1, 'kompatibel': 1, 'kompeten': 1, 'kompetensi': 1, 'komplet': 1, 'komprehensif': 1, 'komunikasi': 1, 'komunikatif': 1, 'kondusif': 1, 'konfirmasi': 1, 'konform': 1, 'konkret': 1, 'konsisten': 1, 'konsistensi': 1, 'konstan': 1, 'kontinu': 1, 'kooperatif': 1, 'koordinasi': 1, 'kreasi': 1, 'kreatif': 1, 'kreativitas': 1, 'kuat': 1, 'lailatul kadar': 1, 'lailatul qadar': 1, 'lailatulkadar': 1, 'lailatulqadar': 1, 'lancar': 1, 'langgeng': 1, 'langsing': 1, 'laporkan': 1, 'layak': 1, 'lega': 1, 'legal': 1, 'legendaris': 1, 'leluasa': 1, 'lembut': 1, 'lerai': 1, 'lezat': 1, 'lincah': 1, 'logis': 1, 'lolos': 1, 'loyal': 1, 'loyalitas': 1, 'luar biasa': 1, 'lucu': 1, 'luhur': 1, 'lulus': 1, 'lunas': 1, 'luwes': 1, 'mabrur': 1, 'mahir': 1, 'maju': 1, 'makan': 1, 'makmur': 1, 'mampu': 1, 'mandiri': 1, 'manfaat': 1, 'manjur': 1, 'mantap': 1, 'masuk akal': 1, 'masukan': 1, 'masyhur': 1, 'megah': 1, 'melancarkan': 1, 'melanggengkan': 1, 'melapangkan': 1, 'melaporkan': 1, 'melegakan': 1, 'melerai': 1, 'meleraikan': 1, 'melestarikan': 1, 'melezatkan': 1, 'melindungi': 1, 'meluhurkan': 1, 'melunasi': 1, 'meluruskan': 1, 'memaafkan': 1, 'memadai': 1, 'memahami': 1, 'memajukan': 1, 'memakmurkan': 1, 'memantapkan': 1, 'mematuhi': 1, 'membaguskan': 1, 'membahagiakan': 1, 'membaik': 1, 'membalas budi': 1, 'membanggakan': 1, 'membangkitkan': 1, 'membangun': 1, 'membantu': 1, 'membawa revolusi': 1, 'membenahi': 1, 'memberbaiki': 1, 'memberdayakan': 1, 'memberi kesempatan': 1, 'memberikan kesempatan': 1, 'membesarkan': 1, 'membetulkan': 1, 'membulatkan hati': 1, 'membulatkan tekad': 1, 'memenagkan': 1, 'memenangkan': 1, 'memenuhi': 1, 'memenuhi persyaratan': 1, 'memerdekakan': 1, 'memopulerkan': 1, 'memotivasi': 1, 'memperaman': 1, 'memperbagus': 1, 'memperbaiki': 1, 'memperbantukan': 1, 'memperbarui': 1, 'mempercanggih': 1, 'mempercantik': 1, 'mempercerdas': 1, 'memperdamai': 1, 'mempererat': 1, 'memperhatikan': 1, 'memperindah': 1, 'memperlancar': 1, 'memperlapang': 1, 'mempermudah': 1, 'mempersatukan': 1, 'mempersiapkan': 1, 'mempersolid': 1, 'mempersukses': 1, 'mempertampan': 1, 'mempertemukan': 1, 'mempertimbangkan': 1, 'memuaskan': 1, 'memudahkan': 1, 'memuji': 1, 'memukau': 1, 'memuliakan': 1, 'memulihkan': 1, 'memurnikan': 1, 'memusyawarahkan': 1, 'menaati': 1, 'menakjubkan': 1, 'menang': 1, 'menarik': 1, 'menauladani': 1, 'mencerahkan': 1, 'mencerdaskan': 1, 'menceriakan': 1, 'mendamaikan': 1, 'mendapat tempat': 1, 'mendayagunakan': 1, 'mendayaupayakan': 1, 'mendonasikan': 1, 'mendonorkan': 1, 'mendorong': 1, 'mendukung': 1, 'menegakkan': 1, 'meneladani': 1, 'menenangkan': 1, 'menengahi': 1, 'menentramkan': 1, 'menepati': 1, 'menerima': 1, 'menertibkan': 1, 'menetapkan': 1, 'mengagumi': 1, 'mengagumkan': 1, 'mengakrabkan': 1, 'mengakurkan': 1, 'mengamankan': 1, 'mengandalkan': 1, 'menganjurkan': 1, 'mengantisipasi': 1, 'menganugerahi': 1, 'menganugrahi': 1, 'menganugrahkan': 1, 'mengasah': 1, 'mengedukasi': 1, 'mengedukasikan': 1, 'mengefektifkan': 1, 'mengerti': 1, 'menggalakkan': 1, 'menggapai': 1, 'menggenjotkan': 1, 'menggiatkan': 1, 'menggugah': 1, 'menghadiahkan': 1, 'menghadiri': 1, 'menghargai': 1, 'mengharmoniskan': 1, 'mengharu biru': 1, 'mengharukan': 1, 'mengharumkan': 1, 'menghayati': 1, 'menghemat': 1, 'menghentikan': 1, 'menghibur': 1, 'menghijaukan': 1, 'menghormati': 1, 'mengilhami': 1, 'mengimbangi': 1, 'mengingatkan': 1, 'menginovasikan': 1, 'menginsafi': 1, 'menginsafkan': 1, 'menginspirasi': 1, 'menginspirasikan': 1, 'mengisi': 1, 'mengokohkan': 1, 'mengoptimalkan': 1, 'mengukuhkan': 1, 'mengulurkan tangan': 1, 'mengungguli': 1, 'mengungkap': 1, 'mengungkap kasus': 1, 'menguntungkan': 1, 'mengupayakan': 1, 'mengusahakan': 1, 'menimba ilmu': 1, 'menindak': 1, 'menindaklanjuti': 1, 'meningkat': 1, 'meningkatkan': 1, 'menjadi sama': 1, 'menjaga': 1, 'menjaring': 1, 'menjawab': 1, 'menjembatani': 1, 'menjernihkan': 1, 'menjinakkan': 1, 'menjiwai': 1, 'menolong': 1, 'menstabilkan': 1, 'mensucikan': 1, 'mensyukuri': 1, 'mentaati': 1, 'menunaikan': 1, 'menunjang': 1, 'menuntun': 1, 'menyadari': 1, 'menyadarkan': 1, 'menyayangi': 1, 'menyeimbangkan': 1, 'menyelamatkan': 1, 'menyelaraskan': 1, 'menyelesaikan': 1, 'menyesuaikan': 1, 'menyetujui': 1, 'menyinergikan': 1, 'menyingkronkan': 1, 'menyingsingkan': 1, 'menyinkronkan': 1, 'menyucikan': 1, 'menyukai': 1, 'menyukseskan': 1, 'merahmati': 1, 'meraih': 1, 'merampungkan': 1, 'merangkul': 1, 'merapihkan': 1, 'merapikan': 1, 'merawat': 1, 'merdu': 1, 'meremajakan': 1, 'merenungi': 1, 'merenungkan': 1, 'merestui': 1, 'meriah': 1, 'meridai': 1, 'meridhai': 1, 'meridhoi': 1, 'meridoi': 1, 'meringankan': 1, 'merohmati': 1, 'merukunkan': 1, 'momentum': 1, 'motivasi': 1, 'mudah': 1, 'mudah-mudahan': 1, 'mufakat': 1, 'mujarab': 1, 'mujur': 1, 'mulia': 1, 'multi fungsi': 1, 'multi guna': 1, 'multifungsi': 1, 'multiguna': 1, 'mulus': 1, 'mumpuni': 1, 'murah': 1, 'murni': 1, 'mustajab': 1, 'musyawarah': 1, 'mutakhir': 1, 'naik': 1, 'ngetop': 1, 'ngetren': 1, 'nikmat': 1, 'nilai tambah': 1, 'nomor wahid': 1, 'normal': 1, 'nyaman': 1, 'objektif': 1, 'obyektif': 1, 'ok': 1, 'optimal': 1, 'optimis': 1, 'optimisme': 1, 'optimistis': 1, 'orisinal': 1, 'orisinalitas': 1, 'orisinil': 1, 'pahlawan': 1, 'pakar': 1, 'pandai': 1, 'pantas': 1, 'panutan': 1, 'patroli': 1, 'patuh': 1, 'peduli': 1, 'pegangan': 1, 'pejuang': 1, 'pekerti': 1, 'pelancaran': 1, 'pelayanan': 1, 'peleraian': 1, 'pelestarian': 1, 'pelipur': 1, 'pemaaf': 1, 'pemantapan': 1, 'pembangunan negara': 1, 'pembangunan umat': 1, 'pembaruan': 1, 'pembenahan': 1, 'pemberdayaan': 1, 'pembulatan tekad': 1, 'pemeriksaan': 1, 'pemersatu': 1, 'pemersatuan': 1, 'pencari ilmu': 1, 'pencarian': 1, 'pencerahan': 1, 'pendidik': 1, 'pendonasian': 1, 'pendonor': 1, 'penegakan': 1, 'penemu': 1, 'penengah': 1, 'penerang': 1, 'pengampunan': 1, 'pengantisipasian': 1, 'penganugerahan': 1, 'pengembangan': 1, 'pengertian': 1, 'penggalakan': 1, 'penggiatan': 1, 'penggugah': 1, 'penghargaan': 1, 'penghijauan': 1, 'pengoptimalan': 1, 'peningkatan': 1, 'penjelasan': 1, 'penjernihan': 1, 'penolong': 1, 'penstabilan': 1, 'penting': 1, 'penuntun': 1, 'penurut': 1, 'penyabar': 1, 'penyantun': 1, 'penyantunan': 1, 'penyatuan': 1, 'penyayang': 1, 'penyuksesan': 1, 'peran kunci': 1, 'perbaikan': 1, 'percaya': 1, 'perdamaian': 1, 'perhatian': 1, 'perkembangan': 1, 'persahabatan': 1, 'persaudaraan': 1, 'pertaubatan': 1, 'pertobatan': 1, 'pertolongan': 1, 'pertumbuhan': 1, 'perundingan': 1, 'petunjuk': 1, 'pintar': 1, 'populer': 1, 'positif': 1, 'potensi': 1, 'potensial': 1, 'praktis': 1, 'preseden': 1, 'presisi': 1, 'prestasi': 1, 'prestise': 1, 'prestisius': 1, 'prima': 1, 'primadona': 1, 'prioritas': 1, 'proaktif': 1, 'produktif': 1, 'profesional': 1, 'profit': 1, 'proporsional': 1, 'prospektif': 1, 'proteksi': 1, 'puas': 1, 'pulih': 1, 'rahman': 1, 'rahmat': 1, 'rajin': 1, 'ramah': 1, 'ramah tamah': 1, 'rampung': 1, 'rapi': 1, 'rapih': 1, 'rasional': 1, 'rasul': 1, 'realistis': 1, 'reformasi': 1, 'rekonsiliasi': 1, 'relawan': 1, 'relevan': 1, 'relevansi': 1, 'relevansinya': 1, 'reliabel': 1, 'renungan': 1, 'resmi': 1, 'responsif': 1, 'revolusioner': 1, 'rezeki': 1, 'riang': 1, 'rida': 1, 'ridha': 1, 'ridho': 1, 'rido': 1, 'rileks': 1, 'riset': 1, 'rohmat': 1, 'rukun': 1, 'rupawan': 1, 'sabar': 1, 'sadar': 1, 'sakinah': 1, 'saksama': 1, 'saleh': 1, 'salehah': 1, 'saling tegur': 1, 'salut': 1, 'sanggup': 1, 'santun': 1, 'satu padu': 1, 'sayang': 1, 'sebaik-baiknya': 1, 'sebesar mungkin': 1, 'secepatnya': 1, 'seefektif': 1, 'seimbang': 1, 'sejalan': 1, 'selamat': 1, 'selaras': 1, 'selesai': 1, 'selesaikan': 1, 'semangat': 1, 'semoga': 1, 'senang': 1, 'serius': 1, 'sesuai': 1, 'setuju': 1, 'shaleh': 1, 'shalehah': 1, 'shalihah': 1, 'sholeh': 1, 'siap': 1, 'silahkan': 1, 'silaturahmi': 1, 'simpati': 1, 'sistematik': 1, 'sistematis': 1, 'siuman': 1, 'sobat': 1, 'sohib': 1, 'solid': 1, 'solidaritas': 1, 'solider': 1, 'solusi': 1, 'sopan': 1, 'sopan santun': 1, 'sorga': 1, 'spektakuler': 1, 'spesial': 1, 'sportif': 1, 'sportivitas': 1, 'stabil': 1, 'steril': 1, 'strategis': 1, 'subsidi': 1, 'suci': 1, 'sudah berupaya': 1, 'sudah berusaha': 1, 'sudah dilakukan': 1, 'sukaria': 1, 'sukses': 1, 'syukuran': 1, 'taat': 1, 'tahu': 1, 'tak ada banding': 1, 'tak ada bandingan': 1, 'tak ada tandingan': 1, 'talenta': 1, 'tampan': 1, 'tangguh': 1, 'taubat': 1, 'tauladan': 1, 'tawaduk': 1, 'tawakal': 1, 'tegar': 1, 'tegas': 1, 'teguh': 1, 'tekad': 1, 'tekun': 1, 'teladan': 1, 'telah berjalan': 1, 'tenteram': 1, 'tentram': 1, 'tepa salira': 1, 'tepat guna': 1, 'tepat sasaran': 1, 'tepati': 1, 'terahmati': 1, 'terawat': 1, 'terbaik': 1, 'terbantu': 1, 'terbarukan': 1, 'terbiasa': 1, 'terbrilian': 1, 'tercakap': 1, 'tercakep': 1, 'tercanggih': 1, 'tercangging': 1, 'tercantik': 1, 'tercerdas': 1, 'terdongkrak': 1, 'teredukasi': 1, 'terfavorit': 1, 'terfenomenal': 1, 'tergapai': 1, 'terharu': 1, 'terhebat': 1, 'terhibur': 1, 'terhormat': 1, 'terima kasih': 1, 'terindah': 1, 'terinformasi': 1, 'terinspirasi': 1, 'teristimewa': 1, 'terjangkau': 1, 'terkagum-kagum': 1, 'terkasih': 1, 'terkenal': 1, 'terkendali': 1, 'terkirim': 1, 'terlezat': 1, 'terlincah': 1, 'termasyhur': 1, 'termotivasi': 1, 'ternama': 1, 'terohmati': 1, 'terpana': 1, 'terpandai': 1, 'terpandang': 1, 'terpilih': 1, 'terpintar': 1, 'terpuji': 1, 'terpukau': 1, 'tersabar': 1, 'tersadar': 1, 'tersadarkan': 1, 'tersantun': 1, 'tersantuni': 1, 'tersayang': 1, 'tersipu': 1, 'tersipu-sipu': 1, 'tersohor': 1, 'tersopan': 1, 'terspektakuler': 1, 'terstruktur': 1, 'tersuci': 1, 'tersucikan': 1, 'tersukses': 1, 'tertaat': 1, 'tertampan': 1, 'tertib': 1, 'tertolong': 1, 'teruji': 1, 'terungkap': 1, 'terurus': 1, 'terus terang': 1, 'tetap di sini': 1, 'tiada banding': 1, 'tiada bandingan': 1, 'tiada tandingan': 1, 'tidak ada banding': 1, 'tidak ada bandingan': 1, 'tidak ada tandingan': 1, 'toleran': 1, 'toleransi': 1, 'tolong-menolong': 1, 'trofi': 1, 'tropi': 1, 'tulus': 1, 'tuntas': 1, 'tuntun': 1, 'tuntunan': 1, 'ukhuwah': 1, 'ulet': 1, 'unggul': 1, 'unggulan': 1, 'unik': 1, 'usulan bersama': 1, 'usulan masyarakat': 1, 'valid': 1, 'visibel': 1, 'wah': 1, 'wajar': 1, 'wajar-wajar': 1, 'wibawa': 1, 'yahud': 1, 'yakin': 1, 'accord': 1, 'asyik': 1, 'asyiknya': 1, 'bimbingan': 1, 'aduhai': 1, 'boleh juga': 1, 'maaf': 1, 'minta maaf': 1, 'sehat': 1, 'suka': 1, 'cinta': 1, 'dikejar': 1, 'tidak apa-apa': 1, 'cepat sembuh': 1, 'imut': 1, 'adil': 1, 'manis': 1, 'lebih baik': 1, 'mengaku': 1, 'sumbangan': 1, 'menggemaskan': 1}\n"
     ]
    }
   ],
   "source": [
    "print(lexicon)"
   ]
  },
  {
   "cell_type": "code",
   "execution_count": 6,
   "metadata": {
    "id": "ovs-EExXdtZa"
   },
   "outputs": [],
   "source": [
    "# NEGATIVE WORDS\n",
    "negative_words = list(open(\"negative.txt\"))\n",
    "negative_words = list([word.rstrip() for word in negative_words])"
   ]
  },
  {
   "cell_type": "code",
   "execution_count": 7,
   "metadata": {
    "colab": {
     "base_uri": "https://localhost:8080/"
    },
    "id": "XGcC5Jdxrflu",
    "outputId": "7d786bab-330a-4e9f-ad71-ab719cfe574d"
   },
   "outputs": [
    {
     "name": "stdout",
     "output_type": "stream",
     "text": [
      "['abnormal', 'absurd', 'acak', 'acak-acakan', 'acuh', 'acuh tak acuh', 'adiktif', 'adil', 'agresi', 'agresif', 'agresor', 'aib', 'air terjun', 'akurat', 'alarm', 'alasan', 'alat permainan', 'alergi', 'alergik', 'amat ketakutan', 'amat panas', 'ambigu', 'ambivalen', 'ambivalensi', 'amoral', 'amoralitas', 'ampun', 'amuk', 'anak nakal', 'anak yatim', 'anarki', 'anarkis', 'anarkisme', 'ancaman', 'aneh', 'aneh lagi', 'anehnya', 'angkuh', 'angriness', 'anjing', 'anjlok', 'anomali', 'antagonis', 'antagonisme', 'antek', 'anti-', 'anti-Amerika', 'anti-Israel', 'anti-kita', 'anti-pendudukan', 'anti-proliferasi', 'anti-putih', 'anti-Semit', 'antipati', 'antisosial', 'antitesis', 'apak', 'apati', 'apatis', 'apek', 'apokaliptik', 'apologis', 'argumentatif', 'artinya jika', 'asam', 'asap', 'asem', 'asing', 'astaghfirullah', 'asusila', 'awan', 'awas', 'babi', 'badai', 'bahan tertawaan', 'bahaya', 'bajingan', 'baju kotor', 'balas dendam', 'bandel', 'bandot', 'bangkrut', 'bantingan', 'banyak sekali', 'barang ganjil', 'barbar', 'basi', 'bayar pajak', 'bau', 'bawahan', 'bebal', 'bego', 'beban', 'bejat', 'bekas', 'bekas luka', 'bekas roda', 'beku', 'belah', 'belum dewasa', 'belum dicoba', 'belum dikonfirmasi', 'belum pasti', 'belum selesai', 'benar-benar', 'bencana', 'bencana alam', 'benci', 'bengah', 'bengis', 'bengkak', 'bengkeng', 'bengkok', 'benjolan', 'bentrokan', 'beracun', 'beradab', 'berakhir', 'berang', 'berani', 'berantakan', 'berat', 'berat sebelah', 'berawan', 'berbahaya', 'berbatu-batu', 'berbau', 'berbeda', 'berbisa', 'berbohong', 'berbuat curang', 'berbuat jahat', 'berbuat salah', 'berbuih', 'bercacat', 'berdalih', 'berdarah', 'berdasar', 'berdaya', 'berdebar', 'berdebat', 'berdebu', 'berdengung', 'berdenyut', 'berdenyut-denyut', 'berderak', 'berderit', 'berdetak', 'berdokumen', 'berdosa', 'berduka', 'berduri', 'berdusta', 'berebut', 'bergairah', 'bergegas', 'bergelombang', 'bergeming', 'bergerak', 'bergerak lambat', 'bergerigi', 'bergetar', 'bergolak', 'bergulat', 'berhaluan kiri', 'berisiko', 'berita palsu', 'berjangkit', 'berjuang', 'berkarat', 'berkata tanpa berpikir', 'berkedip', 'berkejut', 'berkenan', 'berkeping-keping', 'berkeras pendirian', 'berkeringat', 'berkerut', 'berkhayal', 'berkilat', 'berkilau', 'berkolusi', 'berkonflik', 'berkubang', 'berkurang', 'berlangganan', 'berlebihan', 'berlemak', 'berlengah-lengah', 'berlepotan', 'berliku-liku', 'berlumpur', 'bermain berlebih-lebihan', 'bermasalah', 'berminyak', 'bermoral', 'bermuka dua', 'bermuram', 'bermuram durja', 'bermusuhan', 'bermutu rendah', 'bernasib buruk', 'bernoda kotor', 'berongga', 'berperang', 'berpura-pura', 'berputus asa', 'bersaing', 'bersakit', 'bersanding', 'bersedih', 'bersekongkol', 'berselang', 'berselisih', 'bersemangat', 'bersenandung', 'berserakan', 'bersetubuh', 'bersisik', 'bertele-tele', 'bertemu', 'bertengkar', 'bertentangan', 'berteriak', 'bertindak tidak pantas', 'bertingkah', 'bertubuh kecil', 'berukuran terlalu kecil', 'berumur pendek', 'berwajah dua', 'biadab', 'bias', 'biasa', 'biasa-biasa saja', 'bikin macet', \"bid'ah\", 'bikinan', 'bimbang', 'binasa', 'bingung', 'Bingung', 'bisa ular', 'bising', 'blunder', 'bobrok', 'bocor', 'bodoh', 'bohong', 'boong', 'bom', 'boneka', 'boros', 'bosan', 'botak', 'brutal', 'bual', 'buar', 'buas', 'budak', 'bug', 'bukan kepalang', 'buntu', 'bunuh diri', 'buram', 'buritan', 'buronan', 'buruk', 'buruk sekali', 'busuk', 'buta', 'buta huruf', 'cabul', 'cacat', 'cacian', 'calo', 'cambuk', 'canggung', 'cara', 'cari perkara', 'carut-marut', 'cebol', 'cedera', 'cekcok', 'cekung', 'celaan', 'celah', 'celaka', 'cemas', 'cemberut', 'cemburu', 'cemooh', 'cemoohan', 'cenderung', 'cengeng', 'cengking', 'cercaan', 'cerdik', 'cerewet', 'ceroboh', 'compang-camping', 'corengan', 'cukup', 'curam', 'curang', 'curiga', 'dancok', 'dangkal', 'deadline', 'debu', 'defensif', 'degenerasi', 'degradasi', 'dehumanisasi', 'delusi', 'demam', 'demoralisasi', 'dendam', 'dengan mencemoohkan', 'dengan mendapat malapetaka', 'dengan mengagetkan', 'dengan menghina', 'dengan menyedihkan', 'dengan menyesal', 'dengan panas', 'dengan penuh ketakutan', 'dengan rasa curiga', 'dengan rasa hina', 'dengan remeh-temeh', 'dengan sedih', 'dengan segan', 'dengan sengit', 'dengan sia-sia', 'dengan suara keras', 'dengan sukar', 'dengan terbahak-bahak', 'dengan tidak senang', 'dengki', 'depresi', 'derita', 'desis', 'destruktif', 'diam', 'diam-diam', 'dibakar', 'dibanjiri', 'dibantai', 'dibenarkan', 'dibenci', 'dibesar-besarkan', 'dibuang', 'dibuat-buat', 'dicela', 'dicerca', 'dicuci', 'dicuri', 'didanai', 'diganggu', 'dihaluskan', 'dihentikan', 'dihibur', 'dihukum', 'dijauhi', 'dijelaskan', 'dikaburkan', 'dikenakan', 'dikorbankan', 'diktator', 'diktatoris', 'dilapisi gula', 'dilecehkan', 'dilema', 'dilenyapkan', 'dimaafkan', 'dimarahi', 'dimengerti', 'dingin', 'diperangi', 'diperkosa', 'diperlakukan dengan buruk', 'dipermainkan', 'dipertanyakan', 'dipikirkan', 'dirampas', 'diremehkan', 'dirugikan', 'disalahgunakan', 'disalahpahami', 'disayangkan', 'disebut-sebut', 'disederhanakan', 'disengaja', 'disengketakan', 'disiram', 'diskredit', 'diskriminasi', 'diskriminatif', 'disorient', 'disproporsional', 'distorsi', 'ditakdirkan', 'ditinggalkan', 'ditipu', 'ditolak', 'dogmatis', 'dominan', 'dongkol', 'dosa', 'downgrade', 'drastis', 'drop-out', 'dua wajah', 'dugaan', 'duka', 'dukun', 'dumping', 'dungu', 'duniawi', 'dupa', 'durhaka', 'duri', 'dusta', 'dusun', 'dwimakna', 'edan', 'egois', 'egoisme', 'egomania', 'egosentris', 'ejek', 'ejekan', 'ekonomis', 'eksploitasi', 'eksploitatif', 'eksplosif', 'ekstremis', 'enggan', 'enggan membantu', 'erosi', 'fana', 'fanatik', 'fanatisme', 'fantastis', 'fasis', 'fasisme', 'fatal', 'fiksi', 'fitnah', 'fitnahan', 'fobia', 'friksi', 'frustasi', 'frustrasi', 'fundamentalis', 'fundamentalisme', 'ga jelas', 'ga karuan', 'ga peka', 'gadungan', 'gagal', 'gagap', 'gaib', 'galak', 'ganas', 'gangguan', 'ganjil', 'ganti rugi', 'gantung', 'garang', 'garis keras', 'garu', 'gasang', 'gatal', 'gegabah', 'gejala', 'Gejala', 'gelandangan', 'gelap', 'gelisah', 'gelora', 'gembar-gembor', 'gendut', 'genit', 'genosida', 'genting', 'gerah', 'geram', 'gerombolan', 'gesekan', 'gesper', 'getah', 'getaran', 'giat', 'gigih', 'gigil', 'gila', 'gila hormat', 'gila ketakutan', 'gila-gilaan', 'godaan', 'goreng', 'goresan', 'gosip', 'goyah', 'goyangan', 'gua', 'gugup', 'gurun', 'gusar', 'habis', 'hak milik', 'hal merendahkan diri', 'hal tidak dimengerti', 'halangan', 'hama', 'hambatan', 'hampir', 'hampir mati', 'hancur', 'hang', 'haram', 'harga di atas', 'hasutan', 'haus', 'haus darah', 'hedon', 'hedonistik', 'hegemoni', 'hegemonisme', 'hemat', 'hidung belang', 'hina', 'hingar-bingar', 'hiruk-pikuk', 'histeri', 'histeria', 'histeris', 'hujat', 'hukuman', 'hukuman penjara', 'hukuman setimpal', 'hutang', 'iblis', 'idiot', 'igauan', 'ih', 'ikut campur', 'ilegal', 'Iluminati', 'ilusi', 'imajiner', 'imperialis', 'impoten', 'impulsif', 'individualis', 'indoktrinasi', 'infeksi', 'inferioritas', 'inflamasi', 'inflasi', 'ingusan', 'inkompeten', 'inkompetensi', 'inkonsistensi', 'inkonstitusionil', 'insensitively', 'interupsi', 'intimidasi', 'intrusi', 'invasif', 'irasional', 'irasionalitas', 'iri', 'Iritasi', 'ironi', 'ironis', 'ironisnya', 'isolasi', 'istirahat', 'isu', 'jadah', 'jahanam', 'jahat', 'jalan buntu', 'jalan keluar', 'jancuk', 'janggal', 'jatuh', 'jatuh sakit', 'jauh', 'jebakan', 'jelaga', 'jelas', 'jelatang', 'jelek', 'jelu', 'jempol kebawah', 'jenaka', 'jengkel', 'jerat', 'jerawat', 'jeritan', 'jeruk nipis', 'jijik', 'jompo', 'jumlah sedikit', 'kabur', 'kabut', 'kacau', 'kadaluarsa', 'kadung', 'kafir', 'kagum', 'kain kafan', 'kaku', 'kalah', 'kalahan', 'kambing hitam', 'kambuh', 'kampungan', 'kandang', 'kandas', 'kanibal', 'kanker', 'kantong sampah', 'kapak', 'kapalan', 'karat', 'kasar', 'kasihan', 'kata-kata kasar', 'katastropi', 'keadaan acuh tak acuh', 'keadaan buruk', 'keadaan darurat', 'keadaan pingsan', 'keadaan sulit', 'keanehan', 'keangkuhan', 'kebal', 'kebencian', 'keberanian', 'keberatan', 'keberbahayaan', 'kebetulan', 'kebiadaban', 'kebiasaan', 'kebingungan', 'KEBINGUNGAN', 'kebiri', 'kebisingan', 'kebobolan', 'kebocoran', 'kebodohan', 'kebohongan', 'kebosanan', 'kebrutalan', 'kebuntuan', 'keburukan', 'kecabulan', 'kecaman', 'kecanduan', 'kecapaian', 'kecelakaan', 'kecelakaan kapal', 'kecemasan', 'kecemburuan', 'kecenderungan', 'kecenderungan untuk menurun', 'kecerobohan', 'kecewa', 'kecil', 'kecongkakan', 'kecurangan', 'kecurigaan', 'kedangkalan', 'kedengkian', 'keengganan', 'kefanatikan', 'kegagalan', 'keganasan', 'kegarangan', 'kegelapan', 'kegelisahan', 'kegemparan', 'kegemukan', 'kegilaan', 'kegoyangan', 'kegugupan', 'kehabisan', 'kehancuran', 'kehebohan', 'Keheranan', 'kehilangan', 'kehilangan keseimbangan', 'kehinaan', 'keinginan pribadi', 'keingkaran', 'keirasionalan', 'kejahatan', 'kejam', 'kejang', 'kejanggalan', 'kejangkitan', 'kejatuhan', 'kejelekan', 'kejengahan', 'kejengkelan', 'keji', 'kejut', 'kekacauan', 'kekakuan', 'kekalahan', 'kekanak-kanakan', 'kekecewaan', 'kekecilan', 'kekejaman', 'kekejamannya', 'kekeliruan', 'kekenyangan', 'kekerasan', 'kekerasan pendirian', 'kekeringan', 'kekesalan', 'kekhawatiran', 'kekhilafan', 'kekosongan', 'kekotoran', 'kekuatiran', 'kekurangan', 'kekurangpekaan', 'kelakuan buruk', 'kelalaian', 'kelambanan', 'kelancangan', 'kelangkaan', 'kelaparan', 'kelas dua', 'kelelahan', 'kelemahan', 'kelemahan karena usia tua', 'kelembutan', 'kelesuan', 'keletihan', 'keliru', 'keluar', 'keluhan', 'Keluhan', 'kelupaan', 'kemacetan', 'kemalangan', 'kemalasan', 'kemandekan', 'kemarahan', 'kemasukan setan', 'kemasyhuran', 'kematian', 'kembali', 'kemelaratan', 'kemenduaan', 'kemerosotan', 'kemiskinan', 'kemunafikan', 'kemunduran', 'kemurkaan', 'kemurungan', 'kemustahilan', 'kendor', 'kendur', 'kenekatan', 'kental', 'kepahitan', 'kepala batu', 'kepala-sakit', 'kepatahan', 'kepedaran', 'kependekan', 'kepentingan', 'kepentingan diri sendiri', 'kepicikan', 'keputusasaan', 'keputusasan', 'keracunan', 'keraguan', 'kerangka', 'keras', 'keras hati', 'keras kepala', 'keras-kapal', 'kerasnya', 'kerdil', 'kere', 'kerepotan', 'kereta', 'keretakan', 'keriangan', 'keributan', 'kerinduan', 'kering', 'keriput', 'keriuhan', 'kerlip', 'keroncongan', 'kerugian', 'Kerugian', 'kerusakan', 'kerusuhan', 'kerut', 'keruwetan', 'kesal', 'kesalahan', 'kesalahan besar', 'kesalahan hitung', 'kesalahpahaman', 'kesamaan', 'kesedihan', 'keseganan', 'kesegeraan', 'kesembronoan', 'kesendirian', 'kesengitan', 'kesengsaraan', 'kesepian', 'keserakahan', 'keseriusan', 'kesesakan', 'kesilauan', 'kesombongan', 'kesulitan', 'kesuraman', 'kesyahidan', 'ketabahan', 'ketakberanian', 'ketakutan', 'ketamakan', 'ketat', 'ketegangan', 'ketenangan', 'keterbatasan', 'keterbelakangan', 'keterlaluan', 'ketiadaan', 'ketiadaan rasa hormat', 'ketidakabsahan', 'ketidakadilan', 'ketidakakuratan', 'ketidakamanan', 'ketidakbahagiaan', 'ketidakberdayaan', 'ketidakbijaksanaan', 'ketidakcakapan', 'ketidakcocokan', 'ketidakcukupan', 'ketidakefektifan', 'ketidakefisienan', 'ketidakjelasan', 'ketidakjujuran', 'ketidakkasihan', 'ketidaklogisan', 'ketidakmampuan', 'ketidakmampuan menyesuaikan diri', 'ketidakmungkinan', 'ketidakmurnian', 'ketidakpantasan', 'ketidakpedulian', 'ketidakpercayaan', 'ketidakpuasan', 'ketidakrelevanan', 'ketidaksabaran', 'ketidaksamaan', 'ketidakseimbangan', 'ketidaksempurnaan', 'ketidaksenangan', 'ketidaksenonohan', 'ketidaksetaraan', 'ketidaksetiaan', 'ketidaksopanan', 'ketidakstabilan', 'ketidaktahuan', 'Ketidaktelitian', 'ketidaktelitian', 'ketidakteraturan', 'ketidaktertarikan', 'ketidaktoleranan', 'ketidaktulusan', 'ketinggalan', 'ketukan', 'ketus', 'kewajiban', 'kewalahan', 'kezaliman', 'khawatir', 'khayalan', 'khayalan belaka', 'khayali', 'khianat', 'khusus', 'kiamat', 'kikir', 'kikuk', 'kios', 'kisi', 'klik', 'klise', 'knalpot', 'kolot', 'kompatibel', 'kompleks', 'komplikasi', 'komplotan', 'kompong', 'konflik', 'konfrontasi', 'kongkalikong', 'konservatif', 'konsesi', 'konspirasi', 'konspiratif', 'konspirator', 'kontaminasi', 'kontensius', 'kontol', 'kontra', 'kontra-produktif', 'kontradiksi', 'kontradiktif', 'kontraproduktif', 'kontroversi', 'kontroversial', 'konyol', 'korban', 'korban kecelakaan', 'korosi', 'korosif', 'korup', 'korupsi', 'koruptor', 'kotor', 'kotoran', 'kram', 'krisis', 'kritik', 'kritikus', 'kritis', 'kronis', 'kuat', 'kuatir', 'kucam', 'kucing gemuk', 'kudung', 'kukuh', 'kuning', 'kuno', 'kupas', 'pungli', 'kurang', 'kurang ajar', 'kurang baik', 'kurang berkembang', 'kurang beruntung', 'kurang dikenal', 'kurang lengkap', 'kurang menarik', 'kurang pengalaman', 'kurang sehat', 'kurang sopan', 'kurus', 'kusut', 'kutukan', 'labil', 'labu', 'lacur', 'lalai', 'lalim', 'lama', 'lamban', 'lambat', 'lancang', 'lancar', 'lapis kedua', 'lapuk', 'larangan', 'larut', 'latency', 'lawan', 'lebam', 'lebih buruk', 'lebih keras', 'lebih mahal', 'lebihan', 'lecet', 'ledakan', 'lekat', 'lekir', 'lekuk', 'lelah', 'lelucon', 'lemah', 'lemak', 'lemak-kucing', 'lemas', 'lembab', 'lembek', 'lemot', 'lendir', 'lengkap', 'lengket', 'lepas', 'lereng', 'lesu', 'letih', 'letusan', 'liar', 'licik', 'licin', 'lier', 'limbah', 'limbung', 'linglung', 'lintah', 'lirik', 'longgar', 'luah', 'luar biasa', 'lubang angin', 'lucu', 'luka', 'luka bakar', 'luka lecet', 'lumpuh', 'lumpur', 'lunak', 'lupa', 'lusuh', 'macet', 'Maaf', 'mabuk', 'mabuk kepayang', 'mafia', 'mahal', 'main mata', 'main perempuan', 'mainan kerincingan', 'makian', 'makin', 'malang', 'malapetaka', 'malas', 'malu', 'malu-malu', 'mampat', 'mandek', 'manipulasi', 'manipulatif', 'manipulator', 'manja', 'marah', 'marah-marah', 'marginal', 'masalah', 'masam', 'mati', 'mati kelaparan', 'mati lemas', 'mati rasa', 'mati-matian', 'mau bertobat', 'megah', 'megap-megap', 'melalaikan', 'melambat', 'melampiaskan', 'melancarkan', 'melanggar', 'melanggar hukum', 'melanggar susila', 'melarang', 'melarikan diri', 'melawan hukum', 'melayu', 'melebih-lebihkan', 'melecehkan', 'meledak', 'melelahkan', 'melemahkan', 'melenceng', 'melengking', 'melengkingkan', 'melengkung', 'melenyapkan', 'melepaskan', 'melepuh', 'meleset', 'meletakkan-off', 'melibatkan', 'melimpahi', 'melinglungkan', 'melodramatis', 'melongo', 'melongsorkan', 'melucuti senjata', 'melukai', 'meluluhkan', 'melumpuhkan', 'melunakkan', 'meluruhkan', 'memabukkan', 'memadamkan', 'memakan waktu', 'memaksa', 'memaksakan', 'memalsukan', 'memalukan', 'memamerkan', 'memanaskan', 'memancing', 'memandang dengan marah', 'memandang rendah', 'memanjakan', 'memar', 'memarahi', 'memarahkan', 'memarut', 'mematahkan semangat', 'mematikan', 'membagi', 'membahas', 'membahayakan', 'membakar', 'membalas', 'membalikkan', 'membanjiri', 'membantah', 'Membantah', 'membara', 'membatalkan', 'membatasi', 'membatu', 'membayar lebih', 'membedakan', 'membeku', 'membekukan', 'membela', 'membelit', 'membenci', 'membengisi', 'memberatkan', 'memberhentikan', 'memberontak', 'membinasakan', 'membingungkan', 'membohong', 'memboikot', 'memboikot dr masyarakat', 'membolos', 'membombardir', 'membongkar', 'membosankan', 'membuang', 'membuang waktu', 'membuat', 'membuat bersedih hati', 'membuat bingung', 'membuat kasar', 'membuat malu', 'membubuhi gula', 'membujuk', 'membunuh', 'memburuk', 'memburukkan', 'memburuknya', 'membusuk', 'membutakan', 'memecat', 'memekakkan telinga', 'memenjarakan', 'mementingkan diri sendiri', 'memeras', 'memerciki', 'memerintahkan', 'memfitnah', 'memihak', 'memikat', 'memisahkan', 'memiskinkan', 'memohon', 'memperberat', 'memperbudak', 'memperdaya', 'memperdayakan', 'memperingatkan', 'memperkosa', 'memperlambat', 'memperlemah', 'mempersiapkan', 'mempesona', 'mempolemikkan', 'memprihatinkan', 'mempropagandakan', 'memprotes', 'memprovokasi', 'memuakkan', 'memuaskan diri', 'memudarnya', 'memukul', 'memukul dengan tongkat', 'memukul mundur', 'memuntahkan', 'memurahkan', 'memusnahkan', 'memutar', 'memutarbalikkan', 'memutuskan', 'menabrak', 'menahan', 'menakuti', 'menakutkan', 'menampar', 'menanamkan', 'menangis', 'menarik diri', 'menarik kembali', 'menarik perhatian', 'menaruh simpati', 'menasihati', 'mencabut', 'mencabut perlindungan hukum', 'mencaci', 'mencairkan', 'mencampuradukkan', 'mencampuri', 'mencap', 'mencekik', 'mencela', 'mencemari', 'mencemaskan', 'mencemoohkan', 'mencibir', 'mencicit', 'mencium', 'menciut-ciut', 'mencla-mencle', 'mencolok', 'mencopoti', 'mencubit', 'mencuci otak', 'mencuri', 'mencurigakan', 'mendadak', 'mendakwa', 'mendatang', 'mendatangkan', 'mendeklamasikan', 'menderita', 'menderita khayalan', 'menderita sekali', 'mendesak', 'mendesis', 'mendidih', 'mendistorsi', 'menduduki', 'menegur', 'menekan', 'menekankan', 'menelan', 'menentang', 'menertawakan', 'menetes', 'mengabaikan', 'mengaburkan', 'mengacak', 'mengacaukan', 'mengaku', 'mengakui', 'mengalah', 'mengalahkan', 'mengalihkan', 'mengambil alih', 'mengamputasi', 'mengamuk', 'mengancam', 'mengancam jiwa', 'mengangkat bahu', 'menganiaya', 'mengatakan', 'mengebiri', 'mengecam', 'mengecewakan', 'mengecilkan', 'mengecilkan hati', 'mengejan', 'mengejek', 'mengejuntukan', 'mengejutkan', 'mengeksploitasi', 'mengeluarkan', 'mengeluarkan isi perut', 'mengeluh', 'mengelupas', 'mengembara', 'mengemis', 'mengendapkan', 'mengepung', 'mengerang', 'mengeras', 'mengerdilkan', 'mengerikan', 'mengering', 'mengerjakan dengan kurang baik', 'mengerti', 'mengerut', 'mengesalkan', 'menggagalkan', 'menggampangkan', 'mengganggu', 'mengganggu ketenangan', 'menggantikan', 'menggantung', 'menggaruk', 'menggarut', 'menggasak', 'menggelapkan', 'menggelegar', 'menggelepar', 'menggeliat-geliut', 'menggelikan', 'menggelisahkan', 'menggemparkan', 'menggentari', 'menggerakkan', 'menggeram', 'menggerenyet', 'menggerogoti', 'menggertak', 'menggerutu', 'menggigil', 'menggigit', 'menggila', 'menggiling', 'menggoda', 'menggoyang', 'menggugat', 'menggugurkan', 'menggulingkan', 'menggusarkan', 'menghadapi', 'menghalangi', 'menghalau', 'menghambat', 'menghancurkan', 'menghantui', 'menghapus', 'menghapuskan', 'menghasut', 'menghebohkan', 'mengherankan', 'menghilangkan', 'menghina', 'menghinakan', 'menghindari', 'menghujat', 'menghukum', 'menghukum sebelum memeriksa', 'mengigau', 'mengikis', 'mengindoktrinasikan', 'mengingkari', 'menginjak-injak', 'mengintai', 'mengintimidasi', 'mengintip', 'mengisap', 'mengkhawatirkan', 'mengkhianati', 'mengkritik', 'mengoceh', 'mengolesi', 'mengolok-olok', 'mengomel', 'mengorbankan', 'mengotori', 'mengotorkan', 'mengoyakkan', 'menguap', 'menguasai', 'mengumpat', 'mengumumkan kekurangan', 'mengundurkan diri', 'menguntungkan', 'mengurangi', 'menguras', 'mengusir', 'mengutuk', 'Mengutuk', 'meniadakan', 'menidurkan', 'menimbulkan', 'menimbulkan kebencian', 'menimpa', 'menindas', 'meninggal', 'meninggal dunia', 'meninggalkan', 'meningkat', 'meninju', 'menipu', 'menitis', 'menjadi kaya', 'menjadi terlalu panas', 'menjarah', 'menjatuhkan', 'menjauhkan', 'menjauhkan diri', 'menjelekkan', 'menjemukan', 'menjengkelkan', 'menjerat', 'menjerit', 'menjijikkan', 'menjiplak tulisan', 'menodai', 'menohok', 'menolak', 'menonjol', 'mentah', 'menuduh', 'menumbangkan', 'menumpahkan', 'menunda', 'menunduk', 'menundukkan', 'menuntut', 'menurun', 'menurunkan', 'menurunkan nilai', 'menusuk', 'menutup jalan', 'menyaingi', 'menyakiti', 'menyakitkan', 'menyala', 'menyalahgunakan', 'menyalahkan', 'menyangkal', 'menyangsikan', 'menyapa', 'menyayangkan', 'menyayat', 'menyayat hati', 'menyebalkan', 'menyederhanakan', 'menyedihkan', 'menyelinap', 'menyembunyikan', 'menyenangkan', 'menyengat', 'menyentakkan', 'menyerah', 'menyeramkan', 'menyerang', 'menyerbu', 'menyeret', 'menyesali', 'menyesalkan', 'menyesatkan', 'menyesatkan pikiran', 'menyia nyiakan', 'menyiangi', 'menyihir', 'menyiksa', 'menyilaukan', 'menyimpang', 'menyindir', 'menyinggung', 'menyita pikiran', 'menyolok', 'menyombongkan', 'menyumbat', 'menyumpahi', 'menyusahkan', 'menyusup', 'menyusut', 'meracuni', 'meragukan', 'merajalela', 'merajuk', 'merampas', 'merana', 'merancang', 'merangsang', 'merasa jijik', 'merata', 'meratap', 'meratapi', 'meraup', 'merayap', 'merebut', 'meremas', 'meremehkan', 'merencanakan', 'merendahkan', 'merendahkan martabat', 'merengek', 'merenung', 'merepet', 'meresahkan', 'meretas', 'merinding', 'meringis', 'merobek', 'merokok', 'merongrong', 'merosot', 'merugikan', 'merusak', 'merusak akhlak', 'merusak bentuk', 'merusakkan', 'mewah', 'meyakinkan', 'mimpi buruk', 'miring', 'misinformasi', 'miskin', 'misteri', 'misterius', 'mitos', 'momok', 'mubazir', 'mudah terharu', 'mudah tersinggung', 'mudah tertipu', 'multi-polarisasi', 'munafik', 'mundur', 'mungil', 'mungkin', 'mungkir', 'muntah', 'muntahan', 'muntahan kebencian', 'murah', 'murahan', 'muram', 'murka', 'murtad', 'murung', 'muslihat', 'mustahil', 'musuh', 'nambah macet', 'nafsu berahi', 'nafsu berperang', 'naif', 'najis', 'nakal', 'ndeso', 'negatif', 'nekat', 'nenek', 'nepotisme', 'neraka', 'neurotik', 'ngambek', 'ngawur', 'ngelantur', 'ngeri', 'ngobrol', 'ngomel', 'noda', 'noda-noda', 'non-aktif', 'non-keyakinan', 'nyaring', 'nyengir', 'nyeri', 'nyinyir', 'nyonya', 'obat bius', 'obrolan', 'obsesif', 'obyek', 'ocehan', 'ogah-ogahan', 'omelan', 'omong kosong', 'oportunistik', 'oposisi', 'orak', 'orang asing', 'orang bodoh', 'orang buangan', 'orang canggung', 'orang celaka', 'orang dungu', 'orang fanatik', 'orang gila', 'orang ingkar', 'orang kikir', 'orang luar', 'orang membenci', 'orang miskin', 'otokrat', 'otokratis', 'otoriter', 'overakting', 'padat', 'pagar', 'pahit', 'paksaan', 'paling aneh', 'paling kejam', 'paling lambat', 'paling menakutkan', 'palsu', 'panas', 'panci', 'pandangan marah', 'pandangan yg menghinakan', 'panggilan', 'panggilan dari pengadilan', 'panik', 'panjang', 'paradoks', 'paradoksal', 'parah', 'paranoia', 'paranoid', 'parasit', 'paria', 'parno', 'parodi', 'partisan', 'pasif', 'pasrah', 'pasti', 'patah', 'patah hati', 'patuh', 'patung', 'payudara', 'pecah', 'pecahnya', 'pecandu', 'pecundang', 'pedas', 'pedih', 'pekerja buruk', 'pekerjaan rumah', 'pelabuhan', 'pelacur', 'pelakunya', 'pelalaian', 'pelan-pelan', 'pelanggar', 'pelanggar hukum', 'pelanggaran', 'pelanggaran hukum', 'pelawak', 'pelemahan', 'pelepasan nafsu berahi', 'pelit', 'pelupa', 'pemabuk', 'pemalas', 'pemalsuan', 'pemarah', 'pembakar', 'pembakaran', 'pembalasan', 'pembangkang', 'pembangkangan', 'pembantaian', 'pembatalan', 'pembaur', 'pembekuan', 'pembela', 'pembenci', 'pembengkakan', 'pemberang', 'pemberontakan', 'Pembobolan', 'pembohong', 'pembongkar', 'pemborosan', 'pembual', 'pembuangan', 'pembuatan', 'pembubaran', 'pembukaan lagu', 'pembunuh', 'pembunuhan', 'pembunuhan besar-besaran', 'pemecahan', 'pemegatan', 'pemerasan', 'pemerkosaan', 'pemfitnah', 'pemfitnahan', 'pemilih', 'pemisahan', 'pemotongan', 'pemukulan', 'pemusnahan', 'pemutarbalikan', 'penaklukan', 'penakut', 'penalti', 'penangkapan', 'pencegah', 'pencemar', 'pencemas', 'pencurian', 'pendapat', 'pendendam', 'penderita', 'penderitaan', 'penderitaan mendalam', 'pendosa', 'penekanan', 'pengabaian', 'pengacau', 'pengaduan', 'pengakuan', 'pengamuk', 'penganggur', 'penganiaya', 'penganiayaan', 'pengap', 'pengasingan', 'pengeboman', 'pengecualian', 'pengecut', 'pengemis', 'pengenaan', 'pengepungan', 'pengeringan', 'pengganggu', 'penggerutu', 'penghancuran', 'penghasut', 'penghinaan', 'penghindaran', 'penghujatan', 'penghukuman', 'pengingatan', 'pengingkaran', 'pengiring jenazah', 'pengkhianat', 'pengkhianatan', 'pengkritik', 'pengobrol', 'pengotor', 'pengrusakan', 'pengumpatan', 'pengunduran diri', 'pengurangan', 'penindas', 'penindasan', 'penipu', 'penipuan', 'penjahat', 'penjara', 'penjara gelap bawah tanah', 'penjarah', 'penolakan', 'penuh', 'penuh benci', 'penuh celaan', 'penuh curiga', 'penuh dosa', 'penuh sesal', 'penumpasan', 'penundaan', 'penurunan', 'penurut', 'penyadap', 'penyakit', 'penyakit gila', 'penyalahgunaan', 'penyangkalan', 'penyederhanaan berlebihan', 'penyelewengan', 'penyembunyian', 'penyendiri', 'penyerbu', 'penyergapan', 'penyesalan', 'penyesat', 'penyesatan', 'penyiksaan', 'penyimpang', 'penyimpangan', 'penyisihan', 'penyok', 'penyuapan', 'penyusup', 'peot', 'peradangan', 'perampas', 'perampasan', 'perangkap', 'perasaan geli', 'perasaan waswas', 'perawan tua', 'perbedaan pendapat', 'perbuatan jahat', 'perbudakan', 'perdarahan', 'perebut', 'perempuan jahanam', 'perfidity', 'pergolakan', 'perhatian', 'perih sekali', 'peringatan', 'perjuangan', 'perkelahian', 'perlakuan kejam', 'perlawanan', 'perlu', 'permohonan', 'permusuhan', 'perpecahan', 'persahabatan', 'persaingan', 'perselisihan', 'pertempuran', 'pertengkaran', 'pertengkaran sengit', 'pertentangan', 'pertikaian', 'pertumpahan darah', 'pertunjukkan', 'perubahan', 'perusak', 'pesimis', 'pesimisme', 'pesimistis', 'pesta', 'pesta besar', 'pesuruh', 'petualangan', 'PHK', 'picik', 'picketed', 'pidana', 'piket', 'pikun', 'pilih-pilih', 'pimpinan salah', 'pincang', 'pingsan', 'pisah', 'pisau', 'piuh', 'plin-plan', 'polusi', 'prasangka', 'pratfall', 'prihatin', 'primitif', 'propaganda', 'protes', 'provokasi', 'provokatif', 'puas', 'pucat', 'pukulan', 'punah', 'pungli', 'punk', 'pura-pura', 'pusing', 'putus', 'putus asa', 'rampok', 'ngerampok', 'racun', 'radikal', 'Radikal', 'radikalisasi', 'ragu', 'ragu-ragu', 'rajin', 'raksasa', 'ramai', 'rambut rontok', 'rampasan', 'rantingly', 'rants', 'rapuh', 'rasa bersalah', 'rasa cemas', 'rasa gelisah', 'rasa sakit', 'rasa suram', 'rasa tidak berterimakasih', 'rasa tidak enak', 'rasis', 'rasisme', 'reaksioner', 'realistis', 'rebusan', 'redundansi', 'redup', 'relevan', 'remang', 'remang-remang', 'remeh', 'remehkan', 'rendah', 'rendah dinilai', 'rendahan', 'rentan', 'represi', 'represif', 'reruntuhan', 'resah', 'resesi', 'retak', 'retorik', 'retoris', 'rewel', 'reyot', 'ribet', 'ribut', 'rintik', 'risiko', 'riuh', 'roboh', 'rongsokan', 'ruam', 'rumah kaca', 'rumit', 'rumor', 'runtuh', 'rusak', 'rusuh', 'sabar', 'sabotase', 'sakit', 'sakit dirancang', 'sakit hati', 'sakit kepala', 'sakit punggung', 'sakit saraf', 'sakit-dibentuk', 'sakit-didefinisikan', 'sakit-digunakan', 'sakit-dipahami', 'sakit-penggunaan', 'sakitan', 'sakitnya tuh disini', 'salah', 'Salah', 'salah baca', 'salah hitung', 'salah informasi', 'salah membaca', 'salah menafsirkan', 'salah mengerti', 'salah mengucapkan', 'salah mengurus', 'salah menilai', 'salah menyebutkan', 'salah paham', 'salah pikiran', 'salah saji', 'salju longsor', 'saluran air', 'sama sekali', 'samar', 'samaran', 'sambilan', 'sampah', 'sandal bakiak', 'sandera', 'sangat', 'sangat efektif', 'sangat jahat', 'sangat lapar', 'sangat marah', 'sangat menakjubkan', 'sangat sedikit', 'sanggahan', 'sarkasme', 'sarkastik', 'saru', 'satir', 'satiris', 'sayangnya', 'sebelum waktunya', 'sedang saja', 'sederhana', 'sedih', 'sedikit', 'segan', 'segera', 'sejajar', 'selai', 'selang', 'selendang', 'selingan', 'selokan', 'sembarangan', 'sembrono', 'semburan', 'sementara', 'sempit', 'semrawut', 'sendirian', 'sengit', 'sensasi', 'sengsara', 'sensasional', 'sensasionil', 'sentakan', 'sepakan', 'sepele', 'serakah', 'seram', 'serampangan', 'serangan', 'Serangan', 'serangan gencar', 'seret', 'serius', 'serong', 'sesat', 'setan', 'setengah hati', 'setia', 'sewenang-wenang', 'shamefulness', 'shamelessness', 'sia-sia', 'sial', 'sialan', 'sikap', 'siksaan', 'sindiran', 'sindroma', 'singkat', 'sinis', 'sinisme', 'sinting', 'siput', 'sirep', 'sisa-sisa', 'sisi bawah', 'sisi buta', 'siuman', 'skandal', 'skeptis', 'sobek', 'sok', 'sok nasehati', 'sok ngatur', 'sombong', 'sporadis', 'stagnasi', 'statis', 'steal', 'stereotip', 'stres', 'suam', 'suar', 'subversif', 'suka memandang rendah', 'sulit', 'sumbang', 'sundal', 'suram', 'susah', 'syok', 'tabir asap', 'tabu', 'tahayul', 'tahi', 'tai', 'tajam', 'taji', 'tak ada artinya', 'tak bahagia', 'tak baik', 'tak berarti', 'tak berdaya', 'tak bergairah', 'tak berguna', 'tak beriman', 'tak bermutu', 'tak bernyawa', 'tak berperasaan', 'tak berperikemanusiaan', 'tak berpindah-pindah', 'tak bersedia', 'tak biasa', 'tak dihargai', 'tak henti-hentinya', 'tak hormat', 'tak jelas', 'tak kelihatan', 'tak kenal ampun', 'tak kompeten', 'tak layak', 'tak menentu', 'tak pernah puas', 'tak populer', 'tak putus-putusnya', 'tak sehat', 'tak sepakat', 'tak setuju', 'tak tahu malu', 'tak tentu', 'tak terbayangkan', 'tak terbedakan', 'tak terdamaikan', 'tak terduga', 'tak terelakkan', 'tak terhindarkan', 'tak terhitung', 'tak terkatakan', 'tak terkendalikan', 'tak terpecahkan', 'tak terpenuhi', 'tak tertahankan', 'takhyul', 'takut', 'tamak', 'tamparan', 'tandus', 'tangki', 'tanpa', 'tanpa alasan', 'tanpa ampun', 'tanpa belas kasihan', 'tanpa berpikir', 'tanpa cinta', 'tanpa dasar', 'tanpa diketahui', 'tanpa hasil', 'tanpa henti', 'tanpa hukum', 'tanpa iman', 'tanpa kompromi', 'tanpa malu', 'tanpa pandang bulu', 'tanpa rebewes', 'tanpa sadar', 'tanpa semangat', 'tanpa tujuan', 'tantangan', 'tawanan', 'tawar-menawar', 'tebal', 'tegang', 'tegar', 'teguran', 'tekanan', 'telanjang', 'teliti', 'tenggelam', 'tenggelamnya', 'tengkar', 'teralihkan', 'teramat', 'teramati', 'terampil', 'terang-terangan', 'terangsang', 'terasa tidak enak', 'terasing', 'terbalik', 'terbandingkan', 'terbatas', 'terbawah', 'terbayangkan', 'terbelakang', 'terbodoh', 'terbuang', 'terbujuk', 'terbukti', 'terbunuh', 'terburu nafsu', 'terburuk', 'tercela', 'tercemar', 'terdefinisi', 'terdelusi', 'terduga', 'terencana', 'terfragmentasi', 'tergagap', 'terganggu', 'tergenang', 'tergesa-gesa', 'terhalang', 'terhambat', 'terhina', 'terhukum', 'teriakan', 'terik', 'terinfeksi', 'terinfestasi', 'terjal', 'terjangan', 'terjangkau', 'terjawab', 'terjelek', 'terkejut', 'terkena', 'terkenal', 'terkenal jahat', 'terkesima', 'terkulai', 'terkutuk', 'terlalu', 'terlalu banyak', 'terlalu berani', 'terlalu bersemangat', 'terlalu besar', 'terlalu mahal', 'terlalu menekankan', 'terlalu tinggi', 'terlambat', 'terlantar', 'terlarang', 'terlepas', 'terlibat', 'termiskin', 'ternoda', 'teror', 'terorirs', 'terorisme', 'terpencil', 'terpengaruh', 'terperangkap', 'terperanjat', 'terputus-putus', 'tersandung', 'tersangka', 'tersangkut', 'tersedak', 'terselesaikan', 'terselubung', 'tersembunyi', 'tersembunyi dan membahayakan', 'tersendat', 'tersentak-sentak', 'tersiksa', 'tersinggung', 'tersumbat', 'tertagihnya', 'tertahankan', 'tertanam di hati', 'tertancap', 'tertandingi', 'tertarik', 'tertekan', 'tertempa', 'tertinggal', 'tertipu', 'terurai', 'tiba-tiba', 'tidak', 'tidak ada', 'tidak ada reaksi', 'tidak adil', 'tidak akurat', 'tidak aman', 'tidak bagus', 'tidak benar', 'tidak beralasan', 'tidak berharga', 'tidak berhasil', 'tidak berhati-hati', 'tidak berkelanjutan', 'tidak berperasaan', 'tidak bertanggung jawab', 'tidak bijaksana', 'tidak cakap', 'tidak cukup', 'tidak curiga', 'tidak dapat diandalkan', 'tidak dapat digunakan', 'tidak dapat dipertahankan', 'tidak dapat diterima', 'tidak dibutuhkan', 'tidak didukung', 'tidak diinginkan', 'tidak diketahui', 'tidak disukai', 'tidak efektif', 'tidak efisien', 'tidak etis', 'tidak hormat', 'tidak jelas', 'tidak jujur', 'tidak kompeten', 'tidak kompetitif', 'tidak konsisten', 'tidak kreatif', 'tidak kuat', 'tidak layak', 'tidak lazim', 'tidak lengkap', 'tidak logis', 'tidak mampu', 'tidak masuk akal', 'tidak memadai', 'tidak mematuhi', 'tidak membantu', 'tidak memiliki', 'tidak memuaskan', 'tidak menarik', 'tidak mendukung', 'tidak menghargai', 'tidak menyenangkan', 'tidak menyetujui', 'tidak menyukai', 'tidak mungkin', 'tidak nyaman', 'tidak ortodoks', 'tidak pantas', 'tidak peduli', 'tidak peka', 'tidak penting', 'tidak perlu', 'tidak praktis', 'tidak produktif', 'tidak puas', 'tidak ramah', 'tidak rasional', 'tidak resmi', 'tidak sama', 'tidak sebanding', 'tidak seimbang', 'tidak sempurna', 'tidak setuju', 'tidak sopan', 'tidak suka', 'tidak tahu berterima kasih', 'tidak tegas', 'tidak tepat', 'tidak terbaca', 'tidak terbukti', 'tidak terdengar', 'tidak terduga', 'tidak terkalahkan', 'tidak tersedia', 'tidak tetap', 'tidak tulus', 'tidak wajar', 'tikungan', 'tikus', 'timbunan', 'timidness', 'timpang', 'tindak pencegahan', 'tindakan ekstrimis', 'tindakan merugikan', 'tindakan yg bodoh', 'tinggi harga-', 'tinggi hati', 'tinju', 'tipis', 'tipu', 'tipu daya', 'tipu muslihat', 'tirani', 'tolak', 'tolol', 'topangan', 'totaliter', 'tragedi', 'tragis', 'traped', 'trauma', 'traumatis', 'tuduhan', 'Tuduhan', 'tukang daging', 'tukang fitnah', 'tukang jualan', 'Tukang onar', 'tuli', 'Tumbang', 'tumpul', 'tuna karya', 'tunggul', 'Tunggul', 'tusukan', 'uap', 'ugal-ugalan', 'ulang', 'ular berbisa', 'ultimatum', 'ultra-garis keras', 'umpan', 'umpatan', 'untuk sementara', 'usang', 'usil', 'utuh', 'vagina', 'virus', 'volatil', 'vulgar', 'wabah', 'waria', 'was-was', 'waspada', 'wastafel', 'ya silahkan saja', 'Yahudi']\n"
     ]
    }
   ],
   "source": [
    "print(negative_words)"
   ]
  },
  {
   "cell_type": "code",
   "execution_count": 8,
   "metadata": {
    "id": "7Z5a6EWleAul"
   },
   "outputs": [],
   "source": [
    "comment_polarity = [] \n",
    "comment_weight = []\n",
    "negasi = False\n",
    "\n",
    "for sentence in df['clean_comment']: \n",
    "  sentence_score = 0 \n",
    "  sentence_weight = \"\" \n",
    "  sentiment_count = 0 \n",
    "  sentence = sentence.split()\n",
    "  for word in sentence:\n",
    "    try:\n",
    "      score = lexicon[word]\n",
    "      sentiment_count = sentiment_count + 1\n",
    "    except:\n",
    "      score = 99\n",
    "    \n",
    "    if(score == 99):\n",
    "      if (word in negative_words): \n",
    "        negasi = True\n",
    "        sentence_score = sentence_score - 1\n",
    "        sentence_weight = sentence_weight + \" - \"+ str(1)\n",
    "      else:\n",
    "            sentence_score = sentence_score + 0 \n",
    "            sentence_weight = sentence_weight + \" + \"+ str(0)\n",
    "    else:\n",
    "      if(negasi == True):\n",
    "        sentence_score = sentence_score + (score * -1.0)\n",
    "        sentence_weight = sentence_weight + \" + (\"+ str(score) + \" * -1 \"+\") \" \n",
    "        negasi = False\n",
    "      else:\n",
    "        sentence_score = sentence_score + score \n",
    "        sentence_weight = sentence_weight + \" + \"+ str(score)\n",
    "        \n",
    "  comment_weight.append(sentence_weight[1:] +\" = \" + str(sentence_score)) \n",
    "  if sentence_score > 0:\n",
    "    comment_polarity.append('positive') \n",
    "  elif sentence_score < 0:\n",
    "    comment_polarity.append('negative') \n",
    "  else:\n",
    "    comment_polarity.append('neutral') \n",
    "\n",
    "results = pd.DataFrame({\n",
    "    \"comment\" : df['clean_comment'], \n",
    "    \"label\" : comment_polarity, \n",
    "    \"weight\" : comment_weight\n",
    "    })\n",
    "results['label'].value_counts()\n",
    "results[['comment', 'label']].to_csv('labeling-data-instagram.csv', encoding ='utf8', index = False)\n"
   ]
  },
  {
   "cell_type": "code",
   "execution_count": 9,
   "metadata": {
    "colab": {
     "base_uri": "https://localhost:8080/",
     "height": 677
    },
    "id": "PGDKAl7xyXwJ",
    "outputId": "0a138815-3230-43dd-d917-d489b785cdec"
   },
   "outputs": [
    {
     "data": {
      "text/html": [
       "<div>\n",
       "<style scoped>\n",
       "    .dataframe tbody tr th:only-of-type {\n",
       "        vertical-align: middle;\n",
       "    }\n",
       "\n",
       "    .dataframe tbody tr th {\n",
       "        vertical-align: top;\n",
       "    }\n",
       "\n",
       "    .dataframe thead th {\n",
       "        text-align: right;\n",
       "    }\n",
       "</style>\n",
       "<table border=\"1\" class=\"dataframe\">\n",
       "  <thead>\n",
       "    <tr style=\"text-align: right;\">\n",
       "      <th></th>\n",
       "      <th>comment</th>\n",
       "      <th>label</th>\n",
       "      <th>weight</th>\n",
       "    </tr>\n",
       "  </thead>\n",
       "  <tbody>\n",
       "    <tr>\n",
       "      <th>0</th>\n",
       "      <td>aneh aneh aje</td>\n",
       "      <td>negative</td>\n",
       "      <td>- 1 - 1 + 0 = -2</td>\n",
       "    </tr>\n",
       "    <tr>\n",
       "      <th>1</th>\n",
       "      <td>nambah beban rakyat aja dih</td>\n",
       "      <td>negative</td>\n",
       "      <td>+ 0 - 1 + 0 + 0 + 0 = -1</td>\n",
       "    </tr>\n",
       "    <tr>\n",
       "      <th>2</th>\n",
       "      <td>nan</td>\n",
       "      <td>neutral</td>\n",
       "      <td>+ 0 = 0</td>\n",
       "    </tr>\n",
       "    <tr>\n",
       "      <th>3</th>\n",
       "      <td>banget bangettt bangettt jalan aja bayar skrg ...</td>\n",
       "      <td>negative</td>\n",
       "      <td>+ 0 + 0 + 0 + 0 + 0 + 0 + 0 + 0 + 0 + 0 + 0 + ...</td>\n",
       "    </tr>\n",
       "    <tr>\n",
       "      <th>4</th>\n",
       "      <td>ngga paham pikir jaman now ketindesss aje moga...</td>\n",
       "      <td>negative</td>\n",
       "      <td>+ 0 + 0 + 0 + 0 + 0 + 0 + 0 + 0 + (1 * -1 )  =...</td>\n",
       "    </tr>\n",
       "    <tr>\n",
       "      <th>5</th>\n",
       "      <td>gagal perintah kota selesai ujung rakyat sengs...</td>\n",
       "      <td>negative</td>\n",
       "      <td>- 1 + 0 + 0 + (1 * -1 )  + 0 + 0 - 1 + 0 + 0 +...</td>\n",
       "    </tr>\n",
       "    <tr>\n",
       "      <th>6</th>\n",
       "      <td>bener din gitu bayar pajak teh taun naha kitu ...</td>\n",
       "      <td>neutral</td>\n",
       "      <td>+ 0 + 0 + 0 + 0 + 0 + 0 + 0 + 0 + 0 + 0 + 0 = 0</td>\n",
       "    </tr>\n",
       "    <tr>\n",
       "      <th>7</th>\n",
       "      <td>bebas pajak</td>\n",
       "      <td>neutral</td>\n",
       "      <td>+ 0 + 0 = 0</td>\n",
       "    </tr>\n",
       "    <tr>\n",
       "      <th>8</th>\n",
       "      <td>rakyat ud susah bikin susah allahhh</td>\n",
       "      <td>negative</td>\n",
       "      <td>+ 0 + 0 - 1 + 0 - 1 + 0 = -2</td>\n",
       "    </tr>\n",
       "    <tr>\n",
       "      <th>9</th>\n",
       "      <td>blok</td>\n",
       "      <td>neutral</td>\n",
       "      <td>+ 0 = 0</td>\n",
       "    </tr>\n",
       "    <tr>\n",
       "      <th>10</th>\n",
       "      <td>jelas terap baik uji coba cocok terap jkt damp...</td>\n",
       "      <td>negative</td>\n",
       "      <td>+ (1 * -1 )  + 0 + 1 + 0 + 0 + 1 + 0 + 0 + 0 +...</td>\n",
       "    </tr>\n",
       "    <tr>\n",
       "      <th>11</th>\n",
       "      <td>mustafa husss tenangg tenanggg bsk pasang pang...</td>\n",
       "      <td>neutral</td>\n",
       "      <td>+ 0 + 0 + 0 + 0 + 0 + 0 + 0 + 0 + 0 + 0 + 0 + ...</td>\n",
       "    </tr>\n",
       "    <tr>\n",
       "      <th>12</th>\n",
       "      <td>amsyong ampe jalan raya hari palak krisis ngk ...</td>\n",
       "      <td>negative</td>\n",
       "      <td>+ 0 + 0 + 0 + 0 + 0 + 0 - 1 + 0 + 0 + 0 - 1 + ...</td>\n",
       "    </tr>\n",
       "    <tr>\n",
       "      <th>13</th>\n",
       "      <td>gubernur rakus uang</td>\n",
       "      <td>neutral</td>\n",
       "      <td>+ 0 + 0 + 0 = 0</td>\n",
       "    </tr>\n",
       "    <tr>\n",
       "      <th>14</th>\n",
       "      <td>jalan kaki bayar</td>\n",
       "      <td>neutral</td>\n",
       "      <td>+ 0 + 0 + 0 = 0</td>\n",
       "    </tr>\n",
       "    <tr>\n",
       "      <th>15</th>\n",
       "      <td>loe kaye ape loe kaga baca bilang berita woy n...</td>\n",
       "      <td>positive</td>\n",
       "      <td>+ 0 + 0 + 0 + 0 + 0 + 0 + 0 + 0 + 0 + 0 + 0 + ...</td>\n",
       "    </tr>\n",
       "    <tr>\n",
       "      <th>16</th>\n",
       "      <td>azhari anjir tahu komen</td>\n",
       "      <td>positive</td>\n",
       "      <td>+ 0 + 0 + 1 + 0 = 1</td>\n",
       "    </tr>\n",
       "    <tr>\n",
       "      <th>17</th>\n",
       "      <td>negri konoha</td>\n",
       "      <td>neutral</td>\n",
       "      <td>+ 0 + 0 = 0</td>\n",
       "    </tr>\n",
       "    <tr>\n",
       "      <th>18</th>\n",
       "      <td>naikin harga mobil motor aja gasih ngapain bay...</td>\n",
       "      <td>neutral</td>\n",
       "      <td>+ 0 + 0 + 0 + 0 + 0 + 0 + 0 + 0 + 0 + 0 + 0 + ...</td>\n",
       "    </tr>\n",
       "    <tr>\n",
       "      <th>19</th>\n",
       "      <td>precisely agree with your words jakarta soksok...</td>\n",
       "      <td>negative</td>\n",
       "      <td>+ 0 + 0 + 0 + 0 + 0 + 0 + 0 + 0 + 0 - 1 + 0 + ...</td>\n",
       "    </tr>\n",
       "  </tbody>\n",
       "</table>\n",
       "</div>"
      ],
      "text/plain": [
       "                                              comment     label   \n",
       "0                                       aneh aneh aje  negative  \\\n",
       "1                         nambah beban rakyat aja dih  negative   \n",
       "2                                                 nan   neutral   \n",
       "3   banget bangettt bangettt jalan aja bayar skrg ...  negative   \n",
       "4   ngga paham pikir jaman now ketindesss aje moga...  negative   \n",
       "5   gagal perintah kota selesai ujung rakyat sengs...  negative   \n",
       "6   bener din gitu bayar pajak teh taun naha kitu ...   neutral   \n",
       "7                                         bebas pajak   neutral   \n",
       "8                 rakyat ud susah bikin susah allahhh  negative   \n",
       "9                                                blok   neutral   \n",
       "10  jelas terap baik uji coba cocok terap jkt damp...  negative   \n",
       "11  mustafa husss tenangg tenanggg bsk pasang pang...   neutral   \n",
       "12  amsyong ampe jalan raya hari palak krisis ngk ...  negative   \n",
       "13                                gubernur rakus uang   neutral   \n",
       "14                                   jalan kaki bayar   neutral   \n",
       "15  loe kaye ape loe kaga baca bilang berita woy n...  positive   \n",
       "16                            azhari anjir tahu komen  positive   \n",
       "17                                       negri konoha   neutral   \n",
       "18  naikin harga mobil motor aja gasih ngapain bay...   neutral   \n",
       "19  precisely agree with your words jakarta soksok...  negative   \n",
       "\n",
       "                                               weight  \n",
       "0                                    - 1 - 1 + 0 = -2  \n",
       "1                            + 0 - 1 + 0 + 0 + 0 = -1  \n",
       "2                                             + 0 = 0  \n",
       "3   + 0 + 0 + 0 + 0 + 0 + 0 + 0 + 0 + 0 + 0 + 0 + ...  \n",
       "4   + 0 + 0 + 0 + 0 + 0 + 0 + 0 + 0 + (1 * -1 )  =...  \n",
       "5   - 1 + 0 + 0 + (1 * -1 )  + 0 + 0 - 1 + 0 + 0 +...  \n",
       "6     + 0 + 0 + 0 + 0 + 0 + 0 + 0 + 0 + 0 + 0 + 0 = 0  \n",
       "7                                         + 0 + 0 = 0  \n",
       "8                        + 0 + 0 - 1 + 0 - 1 + 0 = -2  \n",
       "9                                             + 0 = 0  \n",
       "10  + (1 * -1 )  + 0 + 1 + 0 + 0 + 1 + 0 + 0 + 0 +...  \n",
       "11  + 0 + 0 + 0 + 0 + 0 + 0 + 0 + 0 + 0 + 0 + 0 + ...  \n",
       "12  + 0 + 0 + 0 + 0 + 0 + 0 - 1 + 0 + 0 + 0 - 1 + ...  \n",
       "13                                    + 0 + 0 + 0 = 0  \n",
       "14                                    + 0 + 0 + 0 = 0  \n",
       "15  + 0 + 0 + 0 + 0 + 0 + 0 + 0 + 0 + 0 + 0 + 0 + ...  \n",
       "16                                + 0 + 0 + 1 + 0 = 1  \n",
       "17                                        + 0 + 0 = 0  \n",
       "18  + 0 + 0 + 0 + 0 + 0 + 0 + 0 + 0 + 0 + 0 + 0 + ...  \n",
       "19  + 0 + 0 + 0 + 0 + 0 + 0 + 0 + 0 + 0 - 1 + 0 + ...  "
      ]
     },
     "execution_count": 9,
     "metadata": {},
     "output_type": "execute_result"
    }
   ],
   "source": [
    "results.head(20)"
   ]
  }
 ],
 "metadata": {
  "colab": {
   "collapsed_sections": [],
   "provenance": []
  },
  "kernelspec": {
   "display_name": "Python 3 (ipykernel)",
   "language": "python",
   "name": "python3"
  },
  "language_info": {
   "codemirror_mode": {
    "name": "ipython",
    "version": 3
   },
   "file_extension": ".py",
   "mimetype": "text/x-python",
   "name": "python",
   "nbconvert_exporter": "python",
   "pygments_lexer": "ipython3",
   "version": "3.10.11"
  }
 },
 "nbformat": 4,
 "nbformat_minor": 1
}
